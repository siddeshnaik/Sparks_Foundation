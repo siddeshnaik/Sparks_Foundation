{
  "nbformat": 4,
  "nbformat_minor": 0,
  "metadata": {
    "colab": {
      "name": "Terrorisum.ipynb",
      "private_outputs": true,
      "provenance": [],
      "collapsed_sections": [],
      "authorship_tag": "ABX9TyP9R1kuoaox0iE9cPgUwZi3",
      "include_colab_link": true
    },
    "kernelspec": {
      "name": "python3",
      "display_name": "Python 3"
    },
    "language_info": {
      "name": "python"
    }
  },
  "cells": [
    {
      "cell_type": "markdown",
      "metadata": {
        "id": "view-in-github",
        "colab_type": "text"
      },
      "source": [
        "<a href=\"https://colab.research.google.com/github/siddeshnaik/Sparks_Foundation/blob/main/Terrorisum.ipynb\" target=\"_parent\"><img src=\"https://colab.research.google.com/assets/colab-badge.svg\" alt=\"Open In Colab\"/></a>"
      ]
    },
    {
      "cell_type": "code",
      "metadata": {
        "id": "o_fll0084Owk"
      },
      "source": [
        "import numpy as np\n",
        "import pandas as pd\n",
        "from matplotlib import pyplot as plt"
      ],
      "execution_count": null,
      "outputs": []
    },
    {
      "cell_type": "code",
      "metadata": {
        "id": "11cZRA5R6JCM"
      },
      "source": [
        "!unzip \"/content/Global_Terrorism_START_data.zip\""
      ],
      "execution_count": null,
      "outputs": []
    },
    {
      "cell_type": "code",
      "metadata": {
        "id": "sJwSvqoL7X61"
      },
      "source": [
        "df = pd.read_csv('/content/globalterrorismdb_0718dist.csv', encoding='cp1252', low_memory=False)\n",
        "df"
      ],
      "execution_count": null,
      "outputs": []
    },
    {
      "cell_type": "code",
      "metadata": {
        "id": "DoibpzgK_xN_"
      },
      "source": [
        ""
      ],
      "execution_count": null,
      "outputs": []
    },
    {
      "cell_type": "code",
      "metadata": {
        "id": "p3jLrmGBBU40"
      },
      "source": [
        "df.columns.values"
      ],
      "execution_count": null,
      "outputs": []
    },
    {
      "cell_type": "code",
      "metadata": {
        "id": "JyypSMqZW5R8"
      },
      "source": [
        "#number of terror attacks that took place in different years\n",
        "s1=pd.Series(df['iyear'].value_counts())\n",
        "df1 = pd.DataFrame(s1)\n",
        "df1.reset_index(inplace=True)"
      ],
      "execution_count": null,
      "outputs": []
    },
    {
      "cell_type": "code",
      "metadata": {
        "id": "U6oshBpGY_Mw"
      },
      "source": [
        "df1.columns = ['Year', 'Number of Incidents']"
      ],
      "execution_count": null,
      "outputs": []
    },
    {
      "cell_type": "code",
      "metadata": {
        "id": "O8hPlkSadNKD"
      },
      "source": [
        "df1.head()"
      ],
      "execution_count": null,
      "outputs": []
    },
    {
      "cell_type": "code",
      "metadata": {
        "id": "EHY7D9Ccdaex"
      },
      "source": [
        "df1.sum()"
      ],
      "execution_count": null,
      "outputs": []
    },
    {
      "cell_type": "code",
      "metadata": {
        "id": "La-aVmrwf774"
      },
      "source": [
        "df2 = pd.DataFrame(df, columns=['country_txt', 'city', 'attacktype1_txt', 'target1', 'targtype1_txt', 'nkill', 'nwound', 'gname', 'iyear', 'imonth', 'iday', 'weaptype1_txt', 'region_txt','summary','motive', 'latitude','longitude'])\n",
        "df2"
      ],
      "execution_count": null,
      "outputs": []
    },
    {
      "cell_type": "code",
      "metadata": {
        "id": "wCc1a3IZh082"
      },
      "source": [
        "df2.isna().sum()"
      ],
      "execution_count": null,
      "outputs": []
    },
    {
      "cell_type": "code",
      "metadata": {
        "id": "bOf6rXnh5rj5"
      },
      "source": [
        "df2.dropna().shape"
      ],
      "execution_count": null,
      "outputs": []
    },
    {
      "cell_type": "code",
      "metadata": {
        "id": "91QalHZH8Ibt"
      },
      "source": [
        "df2.shape"
      ],
      "execution_count": null,
      "outputs": []
    },
    {
      "cell_type": "code",
      "metadata": {
        "id": "ZfvxrpI78LGK"
      },
      "source": [
        ""
      ],
      "execution_count": null,
      "outputs": []
    },
    {
      "cell_type": "code",
      "metadata": {
        "id": "InTUJWIL-ipL"
      },
      "source": [
        ""
      ],
      "execution_count": null,
      "outputs": []
    },
    {
      "cell_type": "markdown",
      "metadata": {
        "id": "TEz9r292-rpv"
      },
      "source": [
        "#NEW START"
      ]
    },
    {
      "cell_type": "code",
      "metadata": {
        "id": "LXjw0DnZ-ulU"
      },
      "source": [
        "import numpy as np\n",
        "import pandas as pd\n",
        "import seaborn as sns\n",
        "import matplotlib.pyplot as plt\n",
        "%matplotlib inline\n",
        "plt.style.use('fivethirtyeight')"
      ],
      "execution_count": null,
      "outputs": []
    },
    {
      "cell_type": "code",
      "metadata": {
        "id": "mcQjpZc2_PEy"
      },
      "source": [
        "given_data = pd.read_csv('/content/globalterrorismdb_0718dist.csv', encoding='cp1252', low_memory=False)\n",
        "given_data"
      ],
      "execution_count": null,
      "outputs": []
    },
    {
      "cell_type": "markdown",
      "metadata": {
        "id": "sxAnv3J9BBPL"
      },
      "source": [
        "#####Looking into Data"
      ]
    },
    {
      "cell_type": "code",
      "metadata": {
        "id": "LWAIl04rAFqm"
      },
      "source": [
        "given_data.shape "
      ],
      "execution_count": null,
      "outputs": []
    },
    {
      "cell_type": "code",
      "metadata": {
        "id": "tT8LvxhPAOfI"
      },
      "source": [
        "given_data.columns.values"
      ],
      "execution_count": null,
      "outputs": []
    },
    {
      "cell_type": "code",
      "metadata": {
        "id": "zTxcq4M6ATFd"
      },
      "source": [
        "given_data.describe()"
      ],
      "execution_count": null,
      "outputs": []
    },
    {
      "cell_type": "markdown",
      "metadata": {
        "id": "vRyzj2ojBN5p"
      },
      "source": [
        "#####Data Cleaning"
      ]
    },
    {
      "cell_type": "code",
      "metadata": {
        "id": "XQxyvr2FCQUh"
      },
      "source": [
        "df = given_data[['eventid', 'iyear','imonth','country_txt', \n",
        "           'region_txt', 'latitude', 'longitude', \n",
        "           'provstate', 'city', 'crit1', 'crit2', 'crit3', \n",
        "           'success', 'suicide', 'attacktype1_txt', 'targtype1_txt', \n",
        "           'targsubtype1_txt', 'natlty1_txt','gname', 'gsubname', 'guncertain1', \n",
        "           'claimed', 'weaptype1_txt', 'weapsubtype1', 'nkill','nwound' ]].copy()\n",
        "#Renaming for further use\n",
        "df.rename(columns = {'eventid' : 'EventId', \n",
        "                     'iyear' : 'Year',\n",
        "                     'imonth' : 'Month',\n",
        "                     'country_txt': 'Country', \n",
        "                     'region_txt' : 'Region', \n",
        "                     'provstate' : 'Provstate', \n",
        "                     'city' : 'City', \n",
        "                     'crit1' : 'Crit1', \n",
        "                     'crit2' : 'Crit2', \n",
        "                     'crit3' : 'Crit3', \n",
        "                     'success' : 'Success', \n",
        "                     'suicide' : 'Suicide', \n",
        "                     'attacktype1_txt' : 'AttackType', \n",
        "                     'targtype1_txt' : 'TargType', \n",
        "                     'targsubtype1_txt' : 'TargSubType', \n",
        "                     'natlty1_txt' : 'Nationality', \n",
        "                     'gname' : 'Group', \n",
        "                     'guncertain1' : 'GunCertain1', \n",
        "                     'claimed' : 'Claimed', \n",
        "                     'weaptype1_txt' : 'WeaponType',\n",
        "                     'weapsubtype1' : 'WeaponSubType', \n",
        "                     'nkill' : 'Killed',\n",
        "                     'nwound' : 'Wounded'}, inplace = True)\n",
        "df"
      ],
      "execution_count": null,
      "outputs": []
    },
    {
      "cell_type": "code",
      "metadata": {
        "id": "whinWE4AFUnU"
      },
      "source": [
        ""
      ],
      "execution_count": null,
      "outputs": []
    }
  ]
}
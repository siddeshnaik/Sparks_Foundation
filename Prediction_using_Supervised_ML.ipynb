{
  "nbformat": 4,
  "nbformat_minor": 5,
  "metadata": {
    "kernelspec": {
      "display_name": "Python 3",
      "language": "python",
      "name": "python3"
    },
    "language_info": {
      "codemirror_mode": {
        "name": "ipython",
        "version": 3
      },
      "file_extension": ".py",
      "mimetype": "text/x-python",
      "name": "python",
      "nbconvert_exporter": "python",
      "pygments_lexer": "ipython3",
      "version": "3.7.9"
    },
    "colab": {
      "name": "Prediction using Supervised ML.ipynb",
      "provenance": [],
      "include_colab_link": true
    }
  },
  "cells": [
    {
      "cell_type": "markdown",
      "metadata": {
        "id": "view-in-github",
        "colab_type": "text"
      },
      "source": [
        "<a href=\"https://colab.research.google.com/github/siddeshnaik/Sparks_Foundation/blob/main/Prediction_using_Supervised_ML.ipynb\" target=\"_parent\"><img src=\"https://colab.research.google.com/assets/colab-badge.svg\" alt=\"Open In Colab\"/></a>"
      ]
    },
    {
      "cell_type": "code",
      "metadata": {
        "id": "684fec81"
      },
      "source": [
        "import pandas as pd\n",
        "import numpy as np\n",
        "import matplotlib.pyplot as plt\n",
        "%matplotlib inline"
      ],
      "id": "684fec81",
      "execution_count": null,
      "outputs": []
    },
    {
      "cell_type": "code",
      "metadata": {
        "id": "51536f96",
        "outputId": "33a42c57-501d-4eab-f0c4-869b0d8bb786"
      },
      "source": [
        "#importing Data\n",
        "df = pd.read_csv('https://raw.githubusercontent.com/AdiPersonalWorks/Random/master/student_scores%20-%20student_scores.csv')\n",
        "df.head()"
      ],
      "id": "51536f96",
      "execution_count": null,
      "outputs": [
        {
          "output_type": "execute_result",
          "data": {
            "text/html": [
              "<div>\n",
              "<style scoped>\n",
              "    .dataframe tbody tr th:only-of-type {\n",
              "        vertical-align: middle;\n",
              "    }\n",
              "\n",
              "    .dataframe tbody tr th {\n",
              "        vertical-align: top;\n",
              "    }\n",
              "\n",
              "    .dataframe thead th {\n",
              "        text-align: right;\n",
              "    }\n",
              "</style>\n",
              "<table border=\"1\" class=\"dataframe\">\n",
              "  <thead>\n",
              "    <tr style=\"text-align: right;\">\n",
              "      <th></th>\n",
              "      <th>Hours</th>\n",
              "      <th>Scores</th>\n",
              "    </tr>\n",
              "  </thead>\n",
              "  <tbody>\n",
              "    <tr>\n",
              "      <th>0</th>\n",
              "      <td>2.5</td>\n",
              "      <td>21</td>\n",
              "    </tr>\n",
              "    <tr>\n",
              "      <th>1</th>\n",
              "      <td>5.1</td>\n",
              "      <td>47</td>\n",
              "    </tr>\n",
              "    <tr>\n",
              "      <th>2</th>\n",
              "      <td>3.2</td>\n",
              "      <td>27</td>\n",
              "    </tr>\n",
              "    <tr>\n",
              "      <th>3</th>\n",
              "      <td>8.5</td>\n",
              "      <td>75</td>\n",
              "    </tr>\n",
              "    <tr>\n",
              "      <th>4</th>\n",
              "      <td>3.5</td>\n",
              "      <td>30</td>\n",
              "    </tr>\n",
              "  </tbody>\n",
              "</table>\n",
              "</div>"
            ],
            "text/plain": [
              "   Hours  Scores\n",
              "0    2.5      21\n",
              "1    5.1      47\n",
              "2    3.2      27\n",
              "3    8.5      75\n",
              "4    3.5      30"
            ]
          },
          "metadata": {
            "tags": []
          },
          "execution_count": 3
        }
      ]
    },
    {
      "cell_type": "code",
      "metadata": {
        "id": "2029cfc0",
        "outputId": "4a708ff5-00ed-495c-cf0b-4778f13f33be"
      },
      "source": [
        "# Ploting the data \n",
        "df.plot(kind='scatter', x='Hours', y='Scores', figsize=(10,6))\n",
        "plt.title('Hours V/s Scores', size = 18)\n",
        "plt.xlabel('Hours', size=15)\n",
        "plt.ylabel('Scores', size=15)\n",
        "plt.grid(True)\n",
        "plt.show()"
      ],
      "id": "2029cfc0",
      "execution_count": null,
      "outputs": [
        {
          "output_type": "display_data",
          "data": {
            "image/png": "[encoded data removed]",
            "text/plain": [
              "<Figure size 720x432 with 1 Axes>"
            ]
          },
          "metadata": {
            "tags": [],
            "needs_background": "light"
          }
        }
      ]
    },
    {
      "cell_type": "code",
      "metadata": {
        "id": "eda3f2bd"
      },
      "source": [
        "X = df.iloc[:, :-1].values #features\n",
        "y = df.iloc[:, 1].values # target\n"
      ],
      "id": "eda3f2bd",
      "execution_count": null,
      "outputs": []
    },
    {
      "cell_type": "code",
      "metadata": {
        "id": "3537969e"
      },
      "source": [
        "from sklearn.model_selection import train_test_split\n",
        "X_train, X_test, y_train, y_test = train_test_split(X, y, test_size=0.2, random_state=42)"
      ],
      "id": "3537969e",
      "execution_count": null,
      "outputs": []
    },
    {
      "cell_type": "code",
      "metadata": {
        "id": "406cf89d",
        "outputId": "ceebaf7f-d7f5-47f4-8d98-07d1a965089b"
      },
      "source": [
        "#linear regression algorithm\n",
        "from sklearn.linear_model import LinearRegression\n",
        "lin_reg = LinearRegression()\n",
        "lin_reg.fit(X_train, y_train)"
      ],
      "id": "406cf89d",
      "execution_count": null,
      "outputs": [
        {
          "output_type": "execute_result",
          "data": {
            "text/plain": [
              "LinearRegression()"
            ]
          },
          "metadata": {
            "tags": []
          },
          "execution_count": 48
        }
      ]
    },
    {
      "cell_type": "code",
      "metadata": {
        "id": "320afb5b",
        "outputId": "d3ffbb07-54af-4011-9c38-fe878bf0c372"
      },
      "source": [
        "lin_reg.coef_, lin_reg.intercept_"
      ],
      "id": "320afb5b",
      "execution_count": null,
      "outputs": [
        {
          "output_type": "execute_result",
          "data": {
            "text/plain": [
              "(array([9.68207815]), 2.826892353899737)"
            ]
          },
          "metadata": {
            "tags": []
          },
          "execution_count": 55
        }
      ]
    },
    {
      "cell_type": "code",
      "metadata": {
        "id": "b6b39235",
        "outputId": "3b8a573b-e7b7-48e0-a4b7-de498ae8f410"
      },
      "source": [
        "line_data = X*lin_reg.coef_ + lin_reg.intercept_\n",
        "print(line_data[:5])"
      ],
      "id": "b6b39235",
      "execution_count": null,
      "outputs": [
        {
          "output_type": "stream",
          "text": [
            "[[27.03208774]\n",
            " [52.20549094]\n",
            " [33.80954245]\n",
            " [85.12455667]\n",
            " [36.71416589]]\n"
          ],
          "name": "stdout"
        }
      ]
    },
    {
      "cell_type": "code",
      "metadata": {
        "id": "5ef479af",
        "outputId": "bed5940c-a85e-4666-f537-8ce01814242b"
      },
      "source": [
        "#ploting the Regression line \n",
        "plt.figure(figsize=(10,6))\n",
        "plt.scatter(X, y, color='b')\n",
        "plt.plot(X,line_data, color='r')\n",
        "plt.title('Hours V/s Scores with Regression Line', size = 18)\n",
        "plt.xlabel('Hours', size=15)\n",
        "plt.ylabel('Scores', size=15)\n",
        "plt.grid(True)\n",
        "plt.show()"
      ],
      "id": "5ef479af",
      "execution_count": null,
      "outputs": [
        {
          "output_type": "display_data",
          "data": {
            "image/png": "[encoded data removed]",
            "text/plain": [
              "<Figure size 720x432 with 1 Axes>"
            ]
          },
          "metadata": {
            "tags": [],
            "needs_background": "light"
          }
        }
      ]
    },
    {
      "cell_type": "code",
      "metadata": {
        "id": "8a9eaaa9",
        "outputId": "08468971-ed2e-435d-dacd-9628efedaded"
      },
      "source": [
        "y_train_pred = lin_reg.predict(X_train)\n",
        "y_train_pred"
      ],
      "id": "8a9eaaa9",
      "execution_count": null,
      "outputs": [
        {
          "output_type": "execute_result",
          "data": {
            "text/plain": [
              "array([28.96850337, 34.77775026, 52.20549094, 39.61878934, 17.35000959,\n",
              "       33.80954245, 46.39624405, 88.99738793, 85.12455667, 36.71416589,\n",
              "       28.96850337, 21.22284085, 49.3008675 , 61.8875691 , 78.34710196,\n",
              "       56.0783222 , 77.37889414, 13.47717832, 74.4742707 , 91.90201137])"
            ]
          },
          "metadata": {
            "tags": []
          },
          "execution_count": 82
        }
      ]
    },
    {
      "cell_type": "code",
      "metadata": {
        "id": "a3ce1a55",
        "outputId": "35d0fe81-e3ae-4e54-86e6-f5be1a40e3b5"
      },
      "source": [
        "from sklearn.metrics import mean_squared_error\n",
        "mean_squared_error(y_train, y_train_pred)"
      ],
      "id": "a3ce1a55",
      "execution_count": null,
      "outputs": [
        {
          "output_type": "execute_result",
          "data": {
            "text/plain": [
              "31.454835527366846"
            ]
          },
          "metadata": {
            "tags": []
          },
          "execution_count": 83
        }
      ]
    },
    {
      "cell_type": "code",
      "metadata": {
        "id": "94a01f87",
        "outputId": "02fd6121-cd70-4100-fad6-15178b4a8037"
      },
      "source": [
        "y_test_pred = lin_reg.predict(X_test)\n",
        "y_test_pred"
      ],
      "id": "94a01f87",
      "execution_count": null,
      "outputs": [
        {
          "output_type": "execute_result",
          "data": {
            "text/plain": [
              "array([83.18814104, 27.03208774, 27.03208774, 69.63323162, 59.95115347])"
            ]
          },
          "metadata": {
            "tags": []
          },
          "execution_count": 84
        }
      ]
    },
    {
      "cell_type": "code",
      "metadata": {
        "id": "9935e143",
        "outputId": "9f058167-53da-4d96-cd75-3fb129ac4411"
      },
      "source": [
        "from sklearn.metrics import mean_squared_error\n",
        "mean_squared_error(y_test, y_test_pred) #error is much less on the testing data main reasoning being very less number of testing data"
      ],
      "id": "9935e143",
      "execution_count": null,
      "outputs": [
        {
          "output_type": "execute_result",
          "data": {
            "text/plain": [
              "18.943211722315272"
            ]
          },
          "metadata": {
            "tags": []
          },
          "execution_count": 85
        }
      ]
    },
    {
      "cell_type": "code",
      "metadata": {
        "id": "44873308",
        "outputId": "1ccb1a5a-9e36-4da1-e9a4-989ebe513c8a"
      },
      "source": [
        "from sklearn import metrics  \n",
        "print('Mean Absolute Error:', \n",
        "      metrics.mean_absolute_error(y_test, y_test_pred)) "
      ],
      "id": "44873308",
      "execution_count": null,
      "outputs": [
        {
          "output_type": "stream",
          "text": [
            "Mean Absolute Error: 3.9207511902099244\n"
          ],
          "name": "stdout"
        }
      ]
    },
    {
      "cell_type": "code",
      "metadata": {
        "id": "3f46e7c0",
        "outputId": "26b8f892-4820-4825-8326-c798a3835fa9"
      },
      "source": [
        "print('Mean Absolute Error:', \n",
        "      metrics.mean_absolute_error(y_train, y_train_pred)) "
      ],
      "id": "3f46e7c0",
      "execution_count": null,
      "outputs": [
        {
          "output_type": "stream",
          "text": [
            "Mean Absolute Error: 5.221357478352559\n"
          ],
          "name": "stdout"
        }
      ]
    },
    {
      "cell_type": "code",
      "metadata": {
        "id": "35737311",
        "outputId": "205b3653-ec1b-4a3b-f357-5cbda72878c8"
      },
      "source": [
        "df1 = pd.DataFrame({'Actual':y_test, \"Predicted\":y_test_predict})\n",
        "df1"
      ],
      "id": "35737311",
      "execution_count": null,
      "outputs": [
        {
          "output_type": "execute_result",
          "data": {
            "text/html": [
              "<div>\n",
              "<style scoped>\n",
              "    .dataframe tbody tr th:only-of-type {\n",
              "        vertical-align: middle;\n",
              "    }\n",
              "\n",
              "    .dataframe tbody tr th {\n",
              "        vertical-align: top;\n",
              "    }\n",
              "\n",
              "    .dataframe thead th {\n",
              "        text-align: right;\n",
              "    }\n",
              "</style>\n",
              "<table border=\"1\" class=\"dataframe\">\n",
              "  <thead>\n",
              "    <tr style=\"text-align: right;\">\n",
              "      <th></th>\n",
              "      <th>Actual</th>\n",
              "      <th>Predicted</th>\n",
              "    </tr>\n",
              "  </thead>\n",
              "  <tbody>\n",
              "    <tr>\n",
              "      <th>0</th>\n",
              "      <td>81</td>\n",
              "      <td>83.188141</td>\n",
              "    </tr>\n",
              "    <tr>\n",
              "      <th>1</th>\n",
              "      <td>30</td>\n",
              "      <td>27.032088</td>\n",
              "    </tr>\n",
              "    <tr>\n",
              "      <th>2</th>\n",
              "      <td>21</td>\n",
              "      <td>27.032088</td>\n",
              "    </tr>\n",
              "    <tr>\n",
              "      <th>3</th>\n",
              "      <td>76</td>\n",
              "      <td>69.633232</td>\n",
              "    </tr>\n",
              "    <tr>\n",
              "      <th>4</th>\n",
              "      <td>62</td>\n",
              "      <td>59.951153</td>\n",
              "    </tr>\n",
              "  </tbody>\n",
              "</table>\n",
              "</div>"
            ],
            "text/plain": [
              "   Actual  Predicted\n",
              "0      81  83.188141\n",
              "1      30  27.032088\n",
              "2      21  27.032088\n",
              "3      76  69.633232\n",
              "4      62  59.951153"
            ]
          },
          "metadata": {
            "tags": []
          },
          "execution_count": 88
        }
      ]
    },
    {
      "cell_type": "code",
      "metadata": {
        "id": "5fb1be33",
        "outputId": "d8ccf7f5-cc19-4ca6-e251-f5fb22a83534"
      },
      "source": [
        "#using Ridge regression\n",
        "\n",
        "from sklearn.linear_model import Ridge\n",
        "ridge_model = Ridge()\n",
        "\n",
        "ridge_model.fit(X_train, y_train)"
      ],
      "id": "5fb1be33",
      "execution_count": null,
      "outputs": [
        {
          "output_type": "execute_result",
          "data": {
            "text/plain": [
              "Ridge()"
            ]
          },
          "metadata": {
            "tags": []
          },
          "execution_count": 89
        }
      ]
    },
    {
      "cell_type": "code",
      "metadata": {
        "id": "2a82b9c6",
        "outputId": "6efae8bb-e015-4fb0-e73a-32b3ff0347f7"
      },
      "source": [
        "y_train_pred = ridge_model.predict(X_train)\n",
        "print('Mean Absolute Error:', \n",
        "      metrics.mean_absolute_error(y_train, y_train_pred)) "
      ],
      "id": "2a82b9c6",
      "execution_count": null,
      "outputs": [
        {
          "output_type": "stream",
          "text": [
            "Mean Absolute Error: 5.1963443433607015\n"
          ],
          "name": "stdout"
        }
      ]
    },
    {
      "cell_type": "code",
      "metadata": {
        "id": "d0a37d4a",
        "outputId": "2374cdde-4444-4bce-d7aa-0748f49ab892"
      },
      "source": [
        "y_test_pred = ridge_model.predict(X_test)\n",
        "print('Mean Absolute Error:', \n",
        "      metrics.mean_absolute_error(y_test, y_test_pred)) "
      ],
      "id": "d0a37d4a",
      "execution_count": null,
      "outputs": [
        {
          "output_type": "stream",
          "text": [
            "Mean Absolute Error: 3.9136922686784787\n"
          ],
          "name": "stdout"
        }
      ]
    },
    {
      "cell_type": "code",
      "metadata": {
        "id": "2f0ff9d1",
        "outputId": "30e0f533-642f-4d2f-ac34-13f82b97d75c"
      },
      "source": [
        "# using ElasticNet\n",
        "\n",
        "from sklearn.linear_model import ElasticNet\n",
        "en_model = ElasticNet()\n",
        "\n",
        "en_model.fit(X_train, y_train)"
      ],
      "id": "2f0ff9d1",
      "execution_count": null,
      "outputs": [
        {
          "output_type": "execute_result",
          "data": {
            "text/plain": [
              "ElasticNet()"
            ]
          },
          "metadata": {
            "tags": []
          },
          "execution_count": 93
        }
      ]
    },
    {
      "cell_type": "code",
      "metadata": {
        "id": "72247421",
        "outputId": "e5381542-6376-4116-8d8c-62c4cb682f80"
      },
      "source": [
        "y_train_pred = en_model.predict(X_train)\n",
        "print('Mean Absolute Error:', \n",
        "      metrics.mean_absolute_error(y_train, y_train_pred)) "
      ],
      "id": "72247421",
      "execution_count": null,
      "outputs": [
        {
          "output_type": "stream",
          "text": [
            "Mean Absolute Error: 5.047589283072461\n"
          ],
          "name": "stdout"
        }
      ]
    },
    {
      "cell_type": "code",
      "metadata": {
        "id": "2a2b0812",
        "outputId": "fdf4ffc6-52b0-478a-dfb6-b6b4280ab67d"
      },
      "source": [
        "y_test_pred = en_model.predict(X_test)\n",
        "print('Mean Absolute Error:', \n",
        "      metrics.mean_absolute_error(y_test, y_test_pred)) "
      ],
      "id": "2a2b0812",
      "execution_count": null,
      "outputs": [
        {
          "output_type": "stream",
          "text": [
            "Mean Absolute Error: 4.028459626594075\n"
          ],
          "name": "stdout"
        }
      ]
    },
    {
      "cell_type": "code",
      "metadata": {
        "id": "e0c7e732"
      },
      "source": [
        ""
      ],
      "id": "e0c7e732",
      "execution_count": null,
      "outputs": []
    }
  ]
}